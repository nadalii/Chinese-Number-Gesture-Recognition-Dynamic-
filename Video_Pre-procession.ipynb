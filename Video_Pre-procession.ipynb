{
 "cells": [
  {
   "cell_type": "markdown",
   "metadata": {},
   "source": [
    "# Pre-Processing Video Input\n",
    "\n",
    "This part is a pre-procession of video, we extract 30 frames from each video and resize them in \"Frame_Data\" folder, the datasets of our deep network are all from this folder."
   ]
  },
  {
   "cell_type": "code",
   "execution_count": 1,
   "metadata": {},
   "outputs": [],
   "source": [
    "import cv2\n",
    "from PIL import Image\n",
    "import os\n",
    "import numpy as np\n",
    "import matplotlib.pyplot as plt\n",
    "%matplotlib inline"
   ]
  },
  {
   "cell_type": "code",
   "execution_count": 2,
   "metadata": {},
   "outputs": [],
   "source": [
    "# capture all frames from a video\n",
    "def capvideo(video, buffer):\n",
    "    '''\n",
    "    video: the path of video\n",
    "    buffer: folder to store all frames\n",
    "    '''\n",
    "    cap = cv2.VideoCapture(video)\n",
    "#     print(cap.isOpened())\n",
    "    count = 1\n",
    "    success = True\n",
    "    while(success):\n",
    "        success, frame = cap.read()\n",
    "        cv2.imwrite(os.path.join(buffer, str(count)+\".jpg\"), frame)\n",
    "        count += 1\n",
    "    cap.release()\n",
    "    return count"
   ]
  },
  {
   "cell_type": "code",
   "execution_count": 3,
   "metadata": {},
   "outputs": [],
   "source": [
    "# choose 30 frames and crop them to 128*128\n",
    "def crop(start, count, buffer, dst):\n",
    "    '''\n",
    "    start: start image\n",
    "    count: result from capvideo()\n",
    "    buffer: same buffer in capvideo()\n",
    "    dst: path of the frames should be stored\n",
    "    '''\n",
    "    index = 1\n",
    "    for i in np.linspace(start, count-1-start, 30, dtype=int):\n",
    "        img = Image.open(os.path.join(buffer, str(i)+\".jpg\"))\n",
    "        img = img.crop((320,40,960,680))\n",
    "        img = img.resize((128,128), resample=Image.NEAREST)            \n",
    "        img.save(os.path.join(dst, str(index)+\".jpg\"))\n",
    "        index += 1"
   ]
  },
  {
   "cell_type": "code",
   "execution_count": 4,
   "metadata": {},
   "outputs": [],
   "source": [
    "def rmbuffer(buffer):\n",
    "    bufferlist = os.listdir(buffer)\n",
    "    for item in bufferlist:\n",
    "        os.remove(os.path.join(buffer, item))\n",
    "    os.rmdir(buffer)"
   ]
  },
  {
   "cell_type": "code",
   "execution_count": 6,
   "metadata": {},
   "outputs": [],
   "source": [
    "# Process on training data\n",
    "video_path = \"./Video_Data\"\n",
    "frame_path = \"./Frame_Data\"\n",
    "dirlist = os.listdir(video_path)\n",
    "for i in dirlist:\n",
    "    current_path = os.path.join(video_path, i)\n",
    "    current_dst = os.path.join(frame_path, i)\n",
    "    if os.path.exists(current_dst == False):\n",
    "        os.mkdir(current_dst)\n",
    "    videolist = os.listdir(current_path)\n",
    "    person = 1\n",
    "    for item in videolist:\n",
    "        if item.endswith(\".MP4\"):\n",
    "            buffer = \"./buffer\"\n",
    "            os.mkdir(buffer)\n",
    "            count = capvideo(os.path.join(current_path, item), buffer)\n",
    "            for start in range(1,4):\n",
    "                dst = os.path.join(current_dst, \"person_\"+str(person))\n",
    "                if os.path.exists(dst) == False:\n",
    "                    os.mkdir(dst)\n",
    "                crop(start, count, buffer, dst)\n",
    "                person += 1\n",
    "            rmbuffer(buffer)"
   ]
  },
  {
   "cell_type": "code",
   "execution_count": 8,
   "metadata": {},
   "outputs": [],
   "source": [
    "# Process on query data\n",
    "Qvideo_path = \"./QVideo_Data\"\n",
    "Qframe_path = \"./QFrame_Data\"\n",
    "if os.path.exists(Qframe_path) == False:\n",
    "    os.mkdir(Qframe_path)\n",
    "\n",
    "index = 1\n",
    "for i in os.listdir(Qvideo_path):\n",
    "    if i.endswith(\".MP4\"):\n",
    "        buffer = \"./buffer\"\n",
    "        os.mkdir(buffer)\n",
    "        count = capvideo(os.path.join(Qvideo_path, i), buffer)\n",
    "        for start in range(1,2):\n",
    "            dst = os.path.join(Qframe_path, \"query_\"+str(index))\n",
    "            if os.path.exists(dst) == False:\n",
    "                os.mkdir(dst)\n",
    "            crop(start, count, buffer, dst)\n",
    "            index += 1\n",
    "        rmbuffer(buffer)"
   ]
  },
  {
   "cell_type": "code",
   "execution_count": null,
   "metadata": {},
   "outputs": [],
   "source": []
  },
  {
   "cell_type": "code",
   "execution_count": null,
   "metadata": {
    "scrolled": true
   },
   "outputs": [],
   "source": []
  },
  {
   "cell_type": "code",
   "execution_count": null,
   "metadata": {},
   "outputs": [],
   "source": []
  }
 ],
 "metadata": {
  "kernelspec": {
   "display_name": "Python 3",
   "language": "python",
   "name": "python3"
  },
  "language_info": {
   "codemirror_mode": {
    "name": "ipython",
    "version": 3
   },
   "file_extension": ".py",
   "mimetype": "text/x-python",
   "name": "python",
   "nbconvert_exporter": "python",
   "pygments_lexer": "ipython3",
   "version": "3.5.5"
  }
 },
 "nbformat": 4,
 "nbformat_minor": 2
}
