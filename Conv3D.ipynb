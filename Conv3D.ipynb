{
 "cells": [
  {
   "cell_type": "markdown",
   "metadata": {},
   "source": [
    "# Conv3D Neural Network\n",
    "\n",
    "In this part, I build a Conv3D neural network, then I train this model with 1320 data, including 1188 training data and 132 test data(choose training data/test data = 9/1), and I save the model to HDF5 file."
   ]
  },
  {
   "cell_type": "code",
   "execution_count": 1,
   "metadata": {},
   "outputs": [
    {
     "name": "stderr",
     "output_type": "stream",
     "text": [
      "d:\\programs\\anaconda\\envs\\python35\\lib\\site-packages\\h5py\\__init__.py:36: FutureWarning: Conversion of the second argument of issubdtype from `float` to `np.floating` is deprecated. In future, it will be treated as `np.float64 == np.dtype(float).type`.\n",
      "  from ._conv import register_converters as _register_converters\n",
      "Using TensorFlow backend.\n",
      "d:\\programs\\anaconda\\envs\\python35\\lib\\site-packages\\sklearn\\cross_validation.py:41: DeprecationWarning: This module was deprecated in version 0.18 in favor of the model_selection module into which all the refactored classes and functions are moved. Also note that the interface of the new CV iterators are different from that of this module. This module will be removed in 0.20.\n",
      "  \"This module will be removed in 0.20.\", DeprecationWarning)\n"
     ]
    }
   ],
   "source": [
    "import tensorflow as tf\n",
    "\n",
    "from keras import Sequential\n",
    "from keras.layers import Conv3D, MaxPooling3D, Dense, Flatten, Dropout\n",
    "from keras.optimizers import RMSprop\n",
    "from keras.utils.np_utils import to_categorical\n",
    "from keras import backend as K\n",
    "from keras.models import model_from_json\n",
    "from sklearn.cross_validation import train_test_split\n",
    "\n",
    "import os\n",
    "import cv2\n",
    "import numpy as np\n",
    "from PIL import Image\n",
    "import matplotlib.pyplot as plt\n",
    "%matplotlib inline"
   ]
  },
  {
   "cell_type": "code",
   "execution_count": 2,
   "metadata": {},
   "outputs": [],
   "source": [
    "# Number of frames of a video and number of classes\n",
    "nframes = 30\n",
    "nclasses = 20"
   ]
  },
  {
   "cell_type": "code",
   "execution_count": 11,
   "metadata": {},
   "outputs": [],
   "source": [
    "# Clear session\n",
    "K.clear_session()"
   ]
  },
  {
   "cell_type": "code",
   "execution_count": 12,
   "metadata": {
    "scrolled": false
   },
   "outputs": [],
   "source": [
    "# construct deep network\n",
    "model = Sequential()\n",
    "model.add(Conv3D(input_shape=(nframes, 128, 128, 3), \n",
    "                 filters=32, \n",
    "                 kernel_size=(7, 7, 7), \n",
    "                 padding='valid', \n",
    "                 strides=(2, 4, 4), \n",
    "                 data_format=\"channels_last\",\n",
    "                 activation=\"relu\"))\n",
    "model.add(MaxPooling3D(pool_size=(3, 3, 3),\n",
    "                       strides=(1, 2, 2),\n",
    "                       padding='valid',\n",
    "                       data_format='channels_last'))\n",
    "model.add(Conv3D(filters=64, \n",
    "                 kernel_size=(5, 5, 5), \n",
    "                 padding='valid', \n",
    "                 strides=(1, 2, 2),\n",
    "                 data_format=\"channels_last\",\n",
    "                 activation=\"relu\"))\n",
    "model.add(MaxPooling3D(pool_size=(3, 3, 3),\n",
    "                       strides=1,\n",
    "                       padding='valid',\n",
    "                       data_format='channels_last'))\n",
    "model.add(Dropout(0.5))\n",
    "model.add(Flatten())\n",
    "model.add(Dense(128, activation='relu'))\n",
    "model.add(Dropout(0.5))\n",
    "model.add(Dense(nclasses, activation='softmax'))"
   ]
  },
  {
   "cell_type": "code",
   "execution_count": 13,
   "metadata": {},
   "outputs": [
    {
     "name": "stdout",
     "output_type": "stream",
     "text": [
      "_________________________________________________________________\n",
      "Layer (type)                 Output Shape              Param #   \n",
      "=================================================================\n",
      "conv3d_1 (Conv3D)            (None, 12, 31, 31, 32)    32960     \n",
      "_________________________________________________________________\n",
      "max_pooling3d_1 (MaxPooling3 (None, 10, 15, 15, 32)    0         \n",
      "_________________________________________________________________\n",
      "conv3d_2 (Conv3D)            (None, 6, 6, 6, 64)       256064    \n",
      "_________________________________________________________________\n",
      "max_pooling3d_2 (MaxPooling3 (None, 4, 4, 4, 64)       0         \n",
      "_________________________________________________________________\n",
      "dropout_1 (Dropout)          (None, 4, 4, 4, 64)       0         \n",
      "_________________________________________________________________\n",
      "flatten_1 (Flatten)          (None, 4096)              0         \n",
      "_________________________________________________________________\n",
      "dense_1 (Dense)              (None, 128)               524416    \n",
      "_________________________________________________________________\n",
      "dropout_2 (Dropout)          (None, 128)               0         \n",
      "_________________________________________________________________\n",
      "dense_2 (Dense)              (None, 20)                2580      \n",
      "=================================================================\n",
      "Total params: 816,020\n",
      "Trainable params: 816,020\n",
      "Non-trainable params: 0\n",
      "_________________________________________________________________\n"
     ]
    }
   ],
   "source": [
    "model.summary()"
   ]
  },
  {
   "cell_type": "code",
   "execution_count": 14,
   "metadata": {},
   "outputs": [],
   "source": [
    "model.compile(loss=\"categorical_crossentropy\",\n",
    "              optimizer=RMSprop(lr=0.001),\n",
    "              metrics=['accuracy'])"
   ]
  },
  {
   "cell_type": "code",
   "execution_count": 7,
   "metadata": {},
   "outputs": [],
   "source": [
    "def appendlabel(label, Yset):\n",
    "    if int(label) == 20:\n",
    "        Yset.append(11)\n",
    "    elif int(label) == 30:\n",
    "        Yset.append(12)\n",
    "    elif int(label) == 40:\n",
    "        Yset.append(13)\n",
    "    elif int(label) == 50:\n",
    "        Yset.append(14)\n",
    "    elif int(label) == 60:\n",
    "        Yset.append(15)\n",
    "    elif int(label) == 70:\n",
    "        Yset.append(16)\n",
    "    elif int(label) == 80:\n",
    "        Yset.append(17)\n",
    "    elif int(label) == 90:\n",
    "        Yset.append(18)\n",
    "    elif int(label) == 100:\n",
    "        Yset.append(19)\n",
    "    else:\n",
    "        Yset.append(int(label))"
   ]
  },
  {
   "cell_type": "code",
   "execution_count": 8,
   "metadata": {},
   "outputs": [],
   "source": [
    "def sort(obj):\n",
    "    aux = []\n",
    "    for i in obj:\n",
    "        name = i.split(\".\")[0]\n",
    "        aux.append(int(name))\n",
    "    aux.sort()\n",
    "    for j in range(len(obj)):\n",
    "        obj[j] = str(aux[j])+\".jpg\""
   ]
  },
  {
   "cell_type": "code",
   "execution_count": 9,
   "metadata": {
    "scrolled": true
   },
   "outputs": [],
   "source": [
    "# Load Data\n",
    "data_path = \"./Frame_Data\"\n",
    "Xset = []\n",
    "Yset = []\n",
    "\n",
    "for i in os.listdir(data_path):\n",
    "    label_path = os.path.join(data_path, i)\n",
    "    for j in os.listdir(label_path):\n",
    "        person_path = os.path.join(label_path, j)\n",
    "        serial = []\n",
    "        imgList = os.listdir(person_path)\n",
    "        sort(imgList)\n",
    "        for k in imgList:\n",
    "            if k.endswith(\".jpg\"):\n",
    "                img = Image.open(os.path.join(person_path, k))\n",
    "                img = np.array(img)\n",
    "                serial.append(img)\n",
    "        Xset.append(serial)\n",
    "        appendlabel(i, Yset)\n",
    "        \n",
    "# pre-processing data\n",
    "Xset = np.array(Xset)\n",
    "Xset = Xset.astype('float32')\n",
    "Xset -= np.mean(Xset)\n",
    "Xset /= np.max(Xset)\n",
    "\n",
    "Yset = np.array(Yset)\n",
    "Yset = to_categorical(Yset)"
   ]
  },
  {
   "cell_type": "code",
   "execution_count": 10,
   "metadata": {},
   "outputs": [],
   "source": [
    "# Split training data and test data\n",
    "Xtrain, Xtest, Ytrain, Ytest = train_test_split(Xset, Yset, test_size=0.1)"
   ]
  },
  {
   "cell_type": "code",
   "execution_count": 15,
   "metadata": {
    "scrolled": true
   },
   "outputs": [
    {
     "name": "stdout",
     "output_type": "stream",
     "text": [
      "Train on 1188 samples, validate on 132 samples\n",
      "Epoch 1/100\n",
      "1188/1188 [==============================] - 30s 25ms/step - loss: 4.2333 - acc: 0.0446 - val_loss: 2.9960 - val_acc: 0.0530\n",
      "Epoch 2/100\n",
      "1188/1188 [==============================] - 7s 6ms/step - loss: 2.9969 - acc: 0.0387 - val_loss: 2.9975 - val_acc: 0.0455\n",
      "Epoch 3/100\n",
      "1188/1188 [==============================] - 7s 6ms/step - loss: 3.0161 - acc: 0.0539 - val_loss: 3.0006 - val_acc: 0.0152\n",
      "Epoch 4/100\n",
      "1188/1188 [==============================] - 7s 6ms/step - loss: 2.9974 - acc: 0.0690 - val_loss: 2.9936 - val_acc: 0.0455\n",
      "Epoch 5/100\n",
      "1188/1188 [==============================] - 7s 6ms/step - loss: 2.9641 - acc: 0.0749 - val_loss: 2.9219 - val_acc: 0.1136\n",
      "Epoch 6/100\n",
      "1188/1188 [==============================] - 7s 6ms/step - loss: 2.9197 - acc: 0.1019 - val_loss: 2.9682 - val_acc: 0.0606\n",
      "Epoch 7/100\n",
      "1188/1188 [==============================] - 7s 6ms/step - loss: 2.9114 - acc: 0.1002 - val_loss: 2.6685 - val_acc: 0.1288\n",
      "Epoch 8/100\n",
      "1188/1188 [==============================] - 7s 6ms/step - loss: 2.8781 - acc: 0.1389 - val_loss: 2.5675 - val_acc: 0.2121\n",
      "Epoch 9/100\n",
      "1188/1188 [==============================] - 7s 6ms/step - loss: 2.6104 - acc: 0.2256 - val_loss: 2.5734 - val_acc: 0.2197\n",
      "Epoch 10/100\n",
      "1188/1188 [==============================] - 7s 6ms/step - loss: 2.3812 - acc: 0.2643 - val_loss: 2.1285 - val_acc: 0.3258\n",
      "Epoch 11/100\n",
      "1188/1188 [==============================] - 7s 6ms/step - loss: 2.2452 - acc: 0.2997 - val_loss: 2.1319 - val_acc: 0.3485\n",
      "Epoch 12/100\n",
      "1188/1188 [==============================] - 7s 6ms/step - loss: 2.0459 - acc: 0.3670 - val_loss: 1.9555 - val_acc: 0.4470\n",
      "Epoch 13/100\n",
      "1188/1188 [==============================] - 7s 6ms/step - loss: 1.7384 - acc: 0.4428 - val_loss: 1.4463 - val_acc: 0.5530\n",
      "Epoch 14/100\n",
      "1188/1188 [==============================] - 7s 6ms/step - loss: 1.6627 - acc: 0.4848 - val_loss: 1.6825 - val_acc: 0.4394\n",
      "Epoch 15/100\n",
      "1188/1188 [==============================] - 7s 6ms/step - loss: 1.4945 - acc: 0.5303 - val_loss: 1.2502 - val_acc: 0.5606\n",
      "Epoch 16/100\n",
      "1188/1188 [==============================] - 7s 6ms/step - loss: 1.2842 - acc: 0.5833 - val_loss: 1.0989 - val_acc: 0.6364\n",
      "Epoch 17/100\n",
      "1188/1188 [==============================] - 7s 6ms/step - loss: 1.1216 - acc: 0.6296 - val_loss: 1.0378 - val_acc: 0.6667\n",
      "Epoch 18/100\n",
      "1188/1188 [==============================] - 7s 6ms/step - loss: 0.9344 - acc: 0.7020 - val_loss: 0.6426 - val_acc: 0.7576\n",
      "Epoch 19/100\n",
      "1188/1188 [==============================] - 7s 6ms/step - loss: 0.8640 - acc: 0.7138 - val_loss: 0.7142 - val_acc: 0.7879\n",
      "Epoch 20/100\n",
      "1188/1188 [==============================] - 7s 6ms/step - loss: 0.8157 - acc: 0.7348 - val_loss: 1.1833 - val_acc: 0.6970\n",
      "Epoch 21/100\n",
      "1188/1188 [==============================] - 7s 6ms/step - loss: 0.6964 - acc: 0.7845 - val_loss: 0.7115 - val_acc: 0.7955\n",
      "Epoch 22/100\n",
      "1188/1188 [==============================] - 7s 6ms/step - loss: 0.5950 - acc: 0.8165 - val_loss: 1.1896 - val_acc: 0.5833\n",
      "Epoch 23/100\n",
      "1188/1188 [==============================] - 7s 6ms/step - loss: 1.5481 - acc: 0.6734 - val_loss: 0.3552 - val_acc: 0.8939\n",
      "Epoch 24/100\n",
      "1188/1188 [==============================] - 7s 6ms/step - loss: 0.3484 - acc: 0.8906 - val_loss: 0.2737 - val_acc: 0.9242\n",
      "Epoch 25/100\n",
      "1188/1188 [==============================] - 7s 6ms/step - loss: 0.4190 - acc: 0.8670 - val_loss: 0.2463 - val_acc: 0.9621\n",
      "Epoch 26/100\n",
      "1188/1188 [==============================] - 8s 7ms/step - loss: 0.3167 - acc: 0.8939 - val_loss: 0.3108 - val_acc: 0.9091\n",
      "Epoch 27/100\n",
      "1188/1188 [==============================] - 7s 6ms/step - loss: 0.3277 - acc: 0.8948 - val_loss: 0.3866 - val_acc: 0.9318\n",
      "Epoch 28/100\n",
      "1188/1188 [==============================] - 7s 6ms/step - loss: 0.4598 - acc: 0.8645 - val_loss: 0.2346 - val_acc: 0.9167\n",
      "Epoch 29/100\n",
      "1188/1188 [==============================] - 7s 6ms/step - loss: 0.2640 - acc: 0.9184 - val_loss: 0.2412 - val_acc: 0.9167\n",
      "Epoch 30/100\n",
      "1188/1188 [==============================] - 8s 7ms/step - loss: 0.2657 - acc: 0.9108 - val_loss: 0.0721 - val_acc: 0.9621\n",
      "Epoch 31/100\n",
      "1188/1188 [==============================] - 8s 6ms/step - loss: 0.3053 - acc: 0.8948 - val_loss: 0.1333 - val_acc: 0.9394\n",
      "Epoch 32/100\n",
      "1188/1188 [==============================] - 8s 7ms/step - loss: 0.2407 - acc: 0.9242 - val_loss: 0.2199 - val_acc: 0.9167\n",
      "Epoch 33/100\n",
      "1188/1188 [==============================] - 8s 7ms/step - loss: 0.2793 - acc: 0.9125 - val_loss: 0.1391 - val_acc: 0.9318\n",
      "Epoch 34/100\n",
      "1188/1188 [==============================] - 8s 6ms/step - loss: 0.4170 - acc: 0.8956 - val_loss: 0.2150 - val_acc: 0.9318\n",
      "Epoch 35/100\n",
      "1188/1188 [==============================] - 7s 6ms/step - loss: 0.1801 - acc: 0.9352 - val_loss: 0.1970 - val_acc: 0.9470\n",
      "Epoch 36/100\n",
      "1188/1188 [==============================] - 7s 6ms/step - loss: 0.1839 - acc: 0.9394 - val_loss: 0.1046 - val_acc: 0.9621\n",
      "Epoch 37/100\n",
      "1188/1188 [==============================] - 7s 6ms/step - loss: 0.1752 - acc: 0.9428 - val_loss: 0.2286 - val_acc: 0.9242\n",
      "Epoch 38/100\n",
      "1188/1188 [==============================] - 7s 6ms/step - loss: 0.2308 - acc: 0.9318 - val_loss: 0.0507 - val_acc: 0.9773\n",
      "Epoch 39/100\n",
      "1188/1188 [==============================] - 7s 6ms/step - loss: 0.1361 - acc: 0.9604 - val_loss: 0.0428 - val_acc: 0.9924\n",
      "Epoch 40/100\n",
      "1188/1188 [==============================] - 7s 6ms/step - loss: 0.3859 - acc: 0.9066 - val_loss: 0.8583 - val_acc: 0.7652\n",
      "Epoch 41/100\n",
      "1188/1188 [==============================] - 7s 6ms/step - loss: 0.3011 - acc: 0.9192 - val_loss: 0.0269 - val_acc: 0.9924\n",
      "Epoch 42/100\n",
      "1188/1188 [==============================] - 7s 6ms/step - loss: 0.0888 - acc: 0.9663 - val_loss: 0.0424 - val_acc: 0.9697\n",
      "Epoch 43/100\n",
      "1188/1188 [==============================] - 7s 6ms/step - loss: 0.1303 - acc: 0.9537 - val_loss: 0.0348 - val_acc: 0.9773\n",
      "Epoch 44/100\n",
      "1188/1188 [==============================] - 7s 6ms/step - loss: 0.1704 - acc: 0.9512 - val_loss: 0.2327 - val_acc: 0.9470\n",
      "Epoch 45/100\n",
      "1188/1188 [==============================] - 7s 6ms/step - loss: 0.1437 - acc: 0.9604 - val_loss: 0.0498 - val_acc: 0.9697\n",
      "Epoch 46/100\n",
      "1188/1188 [==============================] - 7s 6ms/step - loss: 0.1511 - acc: 0.9512 - val_loss: 0.1562 - val_acc: 0.9394\n",
      "Epoch 47/100\n",
      "1188/1188 [==============================] - 7s 6ms/step - loss: 0.1618 - acc: 0.9554 - val_loss: 0.0582 - val_acc: 0.9697\n",
      "Epoch 48/100\n",
      "1188/1188 [==============================] - 7s 6ms/step - loss: 0.1066 - acc: 0.9663 - val_loss: 0.0922 - val_acc: 0.9545\n",
      "Epoch 49/100\n",
      "1188/1188 [==============================] - 7s 6ms/step - loss: 0.3060 - acc: 0.9285 - val_loss: 0.1707 - val_acc: 0.9470\n",
      "Epoch 50/100\n",
      "1188/1188 [==============================] - 7s 6ms/step - loss: 0.1684 - acc: 0.9571 - val_loss: 0.0070 - val_acc: 1.0000\n",
      "Epoch 51/100\n",
      "1188/1188 [==============================] - 7s 6ms/step - loss: 0.0915 - acc: 0.9714 - val_loss: 0.0782 - val_acc: 0.9470\n",
      "Epoch 52/100\n",
      "1188/1188 [==============================] - 7s 6ms/step - loss: 0.1138 - acc: 0.9697 - val_loss: 0.0144 - val_acc: 1.0000\n",
      "Epoch 53/100\n",
      "1188/1188 [==============================] - 7s 6ms/step - loss: 0.1210 - acc: 0.9663 - val_loss: 0.0165 - val_acc: 1.0000\n",
      "Epoch 54/100\n",
      "1188/1188 [==============================] - 7s 6ms/step - loss: 0.1058 - acc: 0.9697 - val_loss: 0.1048 - val_acc: 0.9773\n",
      "Epoch 55/100\n",
      "1188/1188 [==============================] - 7s 6ms/step - loss: 0.1139 - acc: 0.9705 - val_loss: 0.0128 - val_acc: 1.0000\n",
      "Epoch 56/100\n",
      "1188/1188 [==============================] - 7s 6ms/step - loss: 0.1397 - acc: 0.9588 - val_loss: 0.0973 - val_acc: 0.9621\n",
      "Epoch 57/100\n",
      "1188/1188 [==============================] - 7s 6ms/step - loss: 0.0824 - acc: 0.9731 - val_loss: 0.0188 - val_acc: 0.9924\n",
      "Epoch 58/100\n",
      "1188/1188 [==============================] - 7s 6ms/step - loss: 0.7369 - acc: 0.8838 - val_loss: 0.0083 - val_acc: 1.0000\n",
      "Epoch 59/100\n",
      "1188/1188 [==============================] - 7s 6ms/step - loss: 0.1086 - acc: 0.9781 - val_loss: 0.0119 - val_acc: 1.0000\n",
      "Epoch 60/100\n",
      "1188/1188 [==============================] - 7s 6ms/step - loss: 0.0797 - acc: 0.9747 - val_loss: 0.0030 - val_acc: 1.0000\n"
     ]
    },
    {
     "name": "stdout",
     "output_type": "stream",
     "text": [
      "Epoch 61/100\n",
      "1188/1188 [==============================] - 7s 6ms/step - loss: 0.0908 - acc: 0.9781 - val_loss: 0.0019 - val_acc: 1.0000\n",
      "Epoch 62/100\n",
      "1188/1188 [==============================] - 7s 6ms/step - loss: 0.0687 - acc: 0.9731 - val_loss: 0.1341 - val_acc: 0.9773\n",
      "Epoch 63/100\n",
      "1188/1188 [==============================] - 7s 6ms/step - loss: 0.0874 - acc: 0.9773 - val_loss: 0.9084 - val_acc: 0.8712\n",
      "Epoch 64/100\n",
      "1188/1188 [==============================] - 7s 6ms/step - loss: 0.2769 - acc: 0.9461 - val_loss: 0.1781 - val_acc: 0.9545\n",
      "Epoch 65/100\n",
      "1188/1188 [==============================] - 7s 6ms/step - loss: 0.0918 - acc: 0.9781 - val_loss: 0.0369 - val_acc: 0.9773\n",
      "Epoch 66/100\n",
      "1188/1188 [==============================] - 7s 6ms/step - loss: 0.1456 - acc: 0.9663 - val_loss: 0.0074 - val_acc: 1.0000\n",
      "Epoch 67/100\n",
      "1188/1188 [==============================] - 7s 6ms/step - loss: 0.1762 - acc: 0.9579 - val_loss: 0.1583 - val_acc: 0.9773\n",
      "Epoch 68/100\n",
      "1188/1188 [==============================] - 7s 6ms/step - loss: 0.1039 - acc: 0.9747 - val_loss: 0.0139 - val_acc: 1.0000\n",
      "Epoch 69/100\n",
      "1188/1188 [==============================] - 7s 6ms/step - loss: 0.1225 - acc: 0.9705 - val_loss: 0.1108 - val_acc: 0.9773\n",
      "Epoch 70/100\n",
      "1188/1188 [==============================] - 7s 6ms/step - loss: 0.1249 - acc: 0.9672 - val_loss: 0.0335 - val_acc: 0.9773\n",
      "Epoch 71/100\n",
      "1188/1188 [==============================] - 7s 6ms/step - loss: 0.1515 - acc: 0.9663 - val_loss: 0.1318 - val_acc: 0.9697\n",
      "Epoch 72/100\n",
      "1188/1188 [==============================] - 7s 6ms/step - loss: 0.0978 - acc: 0.9672 - val_loss: 0.1462 - val_acc: 0.9621\n",
      "Epoch 73/100\n",
      "1188/1188 [==============================] - 7s 6ms/step - loss: 0.0638 - acc: 0.9840 - val_loss: 0.1020 - val_acc: 0.9773\n",
      "Epoch 74/100\n",
      "1188/1188 [==============================] - 7s 6ms/step - loss: 0.0663 - acc: 0.9823 - val_loss: 0.0195 - val_acc: 0.9773\n",
      "Epoch 75/100\n",
      "1188/1188 [==============================] - 7s 6ms/step - loss: 0.1018 - acc: 0.9731 - val_loss: 0.0011 - val_acc: 1.0000\n",
      "Epoch 76/100\n",
      "1188/1188 [==============================] - 7s 6ms/step - loss: 0.0629 - acc: 0.9832 - val_loss: 8.1479e-04 - val_acc: 1.0000\n",
      "Epoch 77/100\n",
      "1188/1188 [==============================] - 7s 6ms/step - loss: 0.1292 - acc: 0.9705 - val_loss: 0.0335 - val_acc: 0.9773\n",
      "Epoch 78/100\n",
      "1188/1188 [==============================] - 7s 6ms/step - loss: 0.1889 - acc: 0.9579 - val_loss: 0.0071 - val_acc: 1.0000\n",
      "Epoch 79/100\n",
      "1188/1188 [==============================] - 7s 6ms/step - loss: 0.0463 - acc: 0.9832 - val_loss: 0.1055 - val_acc: 0.9773\n",
      "Epoch 80/100\n",
      "1188/1188 [==============================] - 7s 6ms/step - loss: 0.1735 - acc: 0.9689 - val_loss: 0.0039 - val_acc: 1.0000\n",
      "Epoch 81/100\n",
      "1188/1188 [==============================] - 7s 6ms/step - loss: 0.0928 - acc: 0.9747 - val_loss: 0.0105 - val_acc: 1.0000\n",
      "Epoch 82/100\n",
      "1188/1188 [==============================] - 7s 6ms/step - loss: 0.0847 - acc: 0.9739 - val_loss: 0.0148 - val_acc: 1.0000\n",
      "Epoch 83/100\n",
      "1188/1188 [==============================] - 7s 6ms/step - loss: 0.0672 - acc: 0.9790 - val_loss: 0.0014 - val_acc: 1.0000\n",
      "Epoch 84/100\n",
      "1188/1188 [==============================] - 7s 6ms/step - loss: 0.1062 - acc: 0.9739 - val_loss: 0.3875 - val_acc: 0.9545\n",
      "Epoch 85/100\n",
      "1188/1188 [==============================] - 7s 6ms/step - loss: 0.3089 - acc: 0.9453 - val_loss: 0.0244 - val_acc: 0.9773\n",
      "Epoch 86/100\n",
      "1188/1188 [==============================] - 7s 6ms/step - loss: 0.0630 - acc: 0.9874 - val_loss: 0.0079 - val_acc: 1.0000\n",
      "Epoch 87/100\n",
      "1188/1188 [==============================] - 7s 6ms/step - loss: 0.0587 - acc: 0.9764 - val_loss: 0.2694 - val_acc: 0.9545\n",
      "Epoch 88/100\n",
      "1188/1188 [==============================] - 7s 6ms/step - loss: 0.0887 - acc: 0.9756 - val_loss: 0.0028 - val_acc: 1.0000\n",
      "Epoch 89/100\n",
      "1188/1188 [==============================] - 7s 6ms/step - loss: 0.1171 - acc: 0.9756 - val_loss: 0.1409 - val_acc: 0.9773\n",
      "Epoch 90/100\n",
      "1188/1188 [==============================] - 7s 6ms/step - loss: 0.0312 - acc: 0.9916 - val_loss: 0.7801 - val_acc: 0.8864\n",
      "Epoch 91/100\n",
      "1188/1188 [==============================] - 7s 6ms/step - loss: 0.1952 - acc: 0.9604 - val_loss: 0.1859 - val_acc: 0.9773\n",
      "Epoch 92/100\n",
      "1188/1188 [==============================] - 7s 6ms/step - loss: 0.0797 - acc: 0.9806 - val_loss: 8.2029e-04 - val_acc: 1.0000\n",
      "Epoch 93/100\n",
      "1188/1188 [==============================] - 7s 6ms/step - loss: 0.1395 - acc: 0.9731 - val_loss: 0.0055 - val_acc: 1.0000\n",
      "Epoch 94/100\n",
      "1188/1188 [==============================] - 7s 6ms/step - loss: 0.0352 - acc: 0.9899 - val_loss: 0.0559 - val_acc: 0.9773\n",
      "Epoch 95/100\n",
      "1188/1188 [==============================] - 7s 6ms/step - loss: 0.0337 - acc: 0.9865 - val_loss: 0.0067 - val_acc: 1.0000\n",
      "Epoch 96/100\n",
      "1188/1188 [==============================] - 7s 6ms/step - loss: 0.1390 - acc: 0.9747 - val_loss: 0.0417 - val_acc: 0.9773\n",
      "Epoch 97/100\n",
      "1188/1188 [==============================] - 7s 6ms/step - loss: 0.1186 - acc: 0.9756 - val_loss: 0.0018 - val_acc: 1.0000\n",
      "Epoch 98/100\n",
      "1188/1188 [==============================] - 7s 6ms/step - loss: 0.0626 - acc: 0.9840 - val_loss: 0.0939 - val_acc: 0.9773\n",
      "Epoch 99/100\n",
      "1188/1188 [==============================] - 7s 6ms/step - loss: 0.0215 - acc: 0.9933 - val_loss: 0.0758 - val_acc: 0.9773\n",
      "Epoch 100/100\n",
      "1188/1188 [==============================] - 7s 6ms/step - loss: 0.1069 - acc: 0.9823 - val_loss: 0.0181 - val_acc: 0.9924\n"
     ]
    },
    {
     "data": {
      "text/plain": [
       "<keras.callbacks.History at 0x110113efba8>"
      ]
     },
     "execution_count": 15,
     "metadata": {},
     "output_type": "execute_result"
    }
   ],
   "source": [
    "# Train model\n",
    "batch_size = 128\n",
    "model.fit(Xtrain, Ytrain, \n",
    "          validation_data=(Xtest, Ytest),\n",
    "          batch_size=batch_size,\n",
    "          epochs=100,\n",
    "          shuffle=True)"
   ]
  },
  {
   "cell_type": "code",
   "execution_count": 16,
   "metadata": {
    "scrolled": true
   },
   "outputs": [],
   "source": [
    "# Train next 100 epoch if first 100 epoch didn't converge well\n",
    "# model.fit(Xtrain, Ytrain, \n",
    "#           validation_data=(Xtest, Ytest),\n",
    "#           batch_size=batch_size,\n",
    "#           epochs=200,\n",
    "#           initial_epoch=100,\n",
    "#           shuffle=True)"
   ]
  },
  {
   "cell_type": "code",
   "execution_count": 17,
   "metadata": {},
   "outputs": [
    {
     "name": "stdout",
     "output_type": "stream",
     "text": [
      "132/132 [==============================] - 1s 5ms/step\n",
      "loss on test data: 1.811191%\n",
      "accuracy on test data: 99.24%\n"
     ]
    }
   ],
   "source": [
    "# Evaluate on test data\n",
    "score = model.evaluate(Xtest, Ytest, batch_size=batch_size)\n",
    "print(\"loss on test data: %.6f%%\" % (score[0]*100))\n",
    "print(\"accuracy on test data: %.2f%%\" % (score[1]*100))"
   ]
  },
  {
   "cell_type": "code",
   "execution_count": 18,
   "metadata": {},
   "outputs": [],
   "source": [
    "# Save model weigth\n",
    "# serialize model to JSON\n",
    "model_json = model.to_json()\n",
    "with open(\"./Weight/model.json\", \"w\") as json_file:\n",
    "    json_file.write(model_json)\n",
    "# serialize weights to HDF5\n",
    "model.save_weights(\"./Weight/model.h5\")"
   ]
  },
  {
   "cell_type": "code",
   "execution_count": null,
   "metadata": {},
   "outputs": [],
   "source": []
  },
  {
   "cell_type": "code",
   "execution_count": null,
   "metadata": {},
   "outputs": [],
   "source": []
  },
  {
   "cell_type": "code",
   "execution_count": null,
   "metadata": {},
   "outputs": [],
   "source": []
  }
 ],
 "metadata": {
  "kernelspec": {
   "display_name": "Python 3",
   "language": "python",
   "name": "python3"
  },
  "language_info": {
   "codemirror_mode": {
    "name": "ipython",
    "version": 3
   },
   "file_extension": ".py",
   "mimetype": "text/x-python",
   "name": "python",
   "nbconvert_exporter": "python",
   "pygments_lexer": "ipython3",
   "version": "3.5.5"
  }
 },
 "nbformat": 4,
 "nbformat_minor": 2
}
